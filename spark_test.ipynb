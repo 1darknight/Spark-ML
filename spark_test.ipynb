{
 "cells": [
  {
   "cell_type": "code",
   "execution_count": 1,
   "metadata": {},
   "outputs": [],
   "source": [
    "from pyspark.sql import SparkSession"
   ]
  },
  {
   "cell_type": "code",
   "execution_count": 2,
   "metadata": {},
   "outputs": [
    {
     "name": "stderr",
     "output_type": "stream",
     "text": [
      "25/04/12 23:35:40 WARN Utils: Your hostname, MacBook-Pro.local resolves to a loopback address: 127.0.0.1; using 192.168.1.13 instead (on interface en0)\n",
      "25/04/12 23:35:40 WARN Utils: Set SPARK_LOCAL_IP if you need to bind to another address\n",
      "Setting default log level to \"WARN\".\n",
      "To adjust logging level use sc.setLogLevel(newLevel). For SparkR, use setLogLevel(newLevel).\n",
      "25/04/12 23:35:40 WARN NativeCodeLoader: Unable to load native-hadoop library for your platform... using builtin-java classes where applicable\n",
      "Setting Spark log level to \"ERROR\".\n"
     ]
    }
   ],
   "source": [
    "spark = (\n",
    "    SparkSession.builder\n",
    "        .appName(\"Spark\")\n",
    "        .master(\"local[4]\")\n",
    "        .config(\"spark.log.level\", \"ERROR\")\n",
    "        .getOrCreate()\n",
    ")"
   ]
  },
  {
   "cell_type": "code",
   "execution_count": 8,
   "metadata": {},
   "outputs": [
    {
     "name": "stdout",
     "output_type": "stream",
     "text": [
      "+-----+---+\n",
      "| Name|Age|\n",
      "+-----+---+\n",
      "| John| 28|\n",
      "|Smith| 35|\n",
      "|Alice| 23|\n",
      "+-----+---+\n",
      "\n",
      "+-----+---+\n",
      "| Name|Age|\n",
      "+-----+---+\n",
      "|Smith| 35|\n",
      "+-----+---+\n",
      "\n"
     ]
    }
   ],
   "source": [
    "# Check the Spark session\n",
    "spark\n",
    "\n",
    "# Create a simple PySpark DataFrame\n",
    "data = [(\"John\", 28), (\"Smith\", 35), (\"Alice\", 23)]\n",
    "df = spark.createDataFrame(data, [\"Name\", \"Age\"])\n",
    "\n",
    "# Show the DataFrame\n",
    "df.show()\n",
    "\n",
    "# Perform some transformations\n",
    "df.filter(df[\"Age\"] > 30).show()\n"
   ]
  },
  {
   "cell_type": "code",
   "execution_count": 12,
   "metadata": {},
   "outputs": [
    {
     "name": "stdout",
     "output_type": "stream",
     "text": [
      "Pi is roughly 3.144256\n"
     ]
    }
   ],
   "source": [
    "from random import random\n",
    "from operator import add\n",
    "\n",
    "num_samples = 1000000\n",
    "\n",
    "def inside_circle(_):\n",
    "    x, y = random(), random()\n",
    "    return 1 if x*x + y*y <= 1 else 0\n",
    "\n",
    "# Parallelize the computation\n",
    "count = spark.sparkContext.parallelize(range(num_samples)) \\\n",
    "                          .map(inside_circle) \\\n",
    "                          .reduce(add)\n",
    "\n",
    "# Estimate Pi\n",
    "pi_estimate = 4 * count / num_samples\n",
    "print(f\"Pi is roughly {pi_estimate}\")"
   ]
  },
  {
   "cell_type": "code",
   "execution_count": null,
   "metadata": {},
   "outputs": [
    {
     "data": {
      "text/plain": [
       "DataFrame[Name: string, Age: bigint]"
      ]
     },
     "metadata": {},
     "output_type": "display_data"
    }
   ],
   "source": [
    "display(df.toPandas())"
   ]
  },
  {
   "cell_type": "code",
   "execution_count": null,
   "metadata": {},
   "outputs": [],
   "source": [
    "%%markdown\n",
    "Processing\n",
    "\n",
    "1. Single Core \n",
    "2. Parallel Processing / Multi-Threading\n",
    "3. Distributed Processing\n",
    "\n",
    "Pseudo Distributed"
   ]
  },
  {
   "cell_type": "code",
   "execution_count": null,
   "metadata": {},
   "outputs": [],
   "source": [
    "%%markdown\n",
    "1. Installed Anaconda\n",
    "2. Created a python 3.11 environment\n",
    "3. Installed JDK17 - Zulu@17 (Most stable is JDK8, But Databricks is experimenting with JDK17)\n",
    "4. Installed pyspark 3.5.5 (conda activate spark-base, pip install pyspark==3.5.5)\n",
    "5. Set the Python environment in VSCode"
   ]
  }
 ],
 "metadata": {
  "kernelspec": {
   "display_name": "spark-base",
   "language": "python",
   "name": "python3"
  },
  "language_info": {
   "codemirror_mode": {
    "name": "ipython",
    "version": 3
   },
   "file_extension": ".py",
   "mimetype": "text/x-python",
   "name": "python",
   "nbconvert_exporter": "python",
   "pygments_lexer": "ipython3",
   "version": "3.11.11"
  }
 },
 "nbformat": 4,
 "nbformat_minor": 2
}
